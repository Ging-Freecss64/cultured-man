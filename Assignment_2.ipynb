{
 "cells": [
  {
   "cell_type": "markdown",
   "id": "sufficient-rental",
   "metadata": {
    "papermill": {
     "duration": 0.029507,
     "end_time": "2021-07-17T14:46:24.890284",
     "exception": false,
     "start_time": "2021-07-17T14:46:24.860777",
     "status": "completed"
    },
    "tags": []
   },
   "source": [
    "<img src= \"https://images.unsplash.com/photo-1586710025696-b142c39e7355?ixid=MnwxMjA3fDB8MHxzZWFyY2h8MXx8amZrJTIwYWlycG9ydHxlbnwwfHwwfHw%3D&ixlib=rb-1.2.1&auto=format&fit=crop&w=800&q=60\" alt =\"jfk\" style='width: 2000px;'>\n",
    "\n",
    "# Purpose of this project:\n",
    "To test several models to predict Taxi_out time for JFK Airport.\n",
    "\n",
    "Taxi_out is the time aircrafts spend on the surface. The period of time when the aircraft leave the tereminal and actually takes off.\n",
    "\n",
    "Reducing the taxi_out time will help in cutting the consumption of fuel."
   ]
  },
  {
   "cell_type": "code",
   "execution_count": 1,
   "id": "economic-settlement",
   "metadata": {
    "execution": {
     "iopub.execute_input": "2021-07-17T14:46:24.952182Z",
     "iopub.status.busy": "2021-07-17T14:46:24.950397Z",
     "iopub.status.idle": "2021-07-17T14:46:25.128946Z",
     "shell.execute_reply": "2021-07-17T14:46:25.128128Z",
     "shell.execute_reply.started": "2021-07-17T07:22:42.604221Z"
    },
    "papermill": {
     "duration": 0.211277,
     "end_time": "2021-07-17T14:46:25.129119",
     "exception": false,
     "start_time": "2021-07-17T14:46:24.917842",
     "status": "completed"
    },
    "tags": []
   },
   "outputs": [],
   "source": [
    "import numpy as np\n",
    "import matplotlib.pyplot as plt\n",
    "import pandas as pd\n",
    "jfk2=pd.read_csv(\"../input/flight-take-off-data-jfk-airport/M1_final.csv\")\n",
    "jfk1=jfk2.iloc[:,:].values\n",
    "jfk=pd.DataFrame(jfk1)\n",
    "err_lab=[]\n",
    "err_ohe=[]"
   ]
  },
  {
   "cell_type": "markdown",
   "id": "stretch-blues",
   "metadata": {
    "papermill": {
     "duration": 0.027426,
     "end_time": "2021-07-17T14:46:25.183789",
     "exception": false,
     "start_time": "2021-07-17T14:46:25.156363",
     "status": "completed"
    },
    "tags": []
   },
   "source": [
    "# 1. Label encoding"
   ]
  },
  {
   "cell_type": "code",
   "execution_count": 2,
   "id": "blessed-novelty",
   "metadata": {
    "execution": {
     "iopub.execute_input": "2021-07-17T14:46:25.246556Z",
     "iopub.status.busy": "2021-07-17T14:46:25.245945Z",
     "iopub.status.idle": "2021-07-17T14:46:26.319100Z",
     "shell.execute_reply": "2021-07-17T14:46:26.318050Z",
     "shell.execute_reply.started": "2021-07-17T07:22:42.688508Z"
    },
    "papermill": {
     "duration": 1.107755,
     "end_time": "2021-07-17T14:46:26.319300",
     "exception": false,
     "start_time": "2021-07-17T14:46:25.211545",
     "status": "completed"
    },
    "tags": []
   },
   "outputs": [
    {
     "data": {
      "text/html": [
       "<div>\n",
       "<style scoped>\n",
       "    .dataframe tbody tr th:only-of-type {\n",
       "        vertical-align: middle;\n",
       "    }\n",
       "\n",
       "    .dataframe tbody tr th {\n",
       "        vertical-align: top;\n",
       "    }\n",
       "\n",
       "    .dataframe thead th {\n",
       "        text-align: right;\n",
       "    }\n",
       "</style>\n",
       "<table border=\"1\" class=\"dataframe\">\n",
       "  <thead>\n",
       "    <tr style=\"text-align: right;\">\n",
       "      <th></th>\n",
       "      <th>0</th>\n",
       "      <th>1</th>\n",
       "      <th>2</th>\n",
       "      <th>3</th>\n",
       "      <th>4</th>\n",
       "      <th>5</th>\n",
       "      <th>6</th>\n",
       "      <th>7</th>\n",
       "      <th>8</th>\n",
       "      <th>9</th>\n",
       "      <th>...</th>\n",
       "      <th>13</th>\n",
       "      <th>14</th>\n",
       "      <th>15</th>\n",
       "      <th>16</th>\n",
       "      <th>17</th>\n",
       "      <th>18</th>\n",
       "      <th>19</th>\n",
       "      <th>20</th>\n",
       "      <th>21</th>\n",
       "      <th>22</th>\n",
       "    </tr>\n",
       "  </thead>\n",
       "  <tbody>\n",
       "    <tr>\n",
       "      <th>0</th>\n",
       "      <td>11</td>\n",
       "      <td>1</td>\n",
       "      <td>5</td>\n",
       "      <td>3</td>\n",
       "      <td>1405</td>\n",
       "      <td>10</td>\n",
       "      <td>-1</td>\n",
       "      <td>124</td>\n",
       "      <td>636</td>\n",
       "      <td>324</td>\n",
       "      <td>...</td>\n",
       "      <td>34</td>\n",
       "      <td>58</td>\n",
       "      <td>15</td>\n",
       "      <td>25</td>\n",
       "      <td>38</td>\n",
       "      <td>29</td>\n",
       "      <td>4</td>\n",
       "      <td>9</td>\n",
       "      <td>17</td>\n",
       "      <td>14</td>\n",
       "    </tr>\n",
       "    <tr>\n",
       "      <th>1</th>\n",
       "      <td>11</td>\n",
       "      <td>1</td>\n",
       "      <td>5</td>\n",
       "      <td>3</td>\n",
       "      <td>2074</td>\n",
       "      <td>28</td>\n",
       "      <td>-7</td>\n",
       "      <td>371</td>\n",
       "      <td>2475</td>\n",
       "      <td>340</td>\n",
       "      <td>...</td>\n",
       "      <td>34</td>\n",
       "      <td>58</td>\n",
       "      <td>15</td>\n",
       "      <td>25</td>\n",
       "      <td>38</td>\n",
       "      <td>29</td>\n",
       "      <td>4</td>\n",
       "      <td>9</td>\n",
       "      <td>17</td>\n",
       "      <td>15</td>\n",
       "    </tr>\n",
       "    <tr>\n",
       "      <th>2</th>\n",
       "      <td>11</td>\n",
       "      <td>1</td>\n",
       "      <td>5</td>\n",
       "      <td>3</td>\n",
       "      <td>1942</td>\n",
       "      <td>20</td>\n",
       "      <td>40</td>\n",
       "      <td>181</td>\n",
       "      <td>1069</td>\n",
       "      <td>301</td>\n",
       "      <td>...</td>\n",
       "      <td>34</td>\n",
       "      <td>58</td>\n",
       "      <td>15</td>\n",
       "      <td>25</td>\n",
       "      <td>38</td>\n",
       "      <td>29</td>\n",
       "      <td>4</td>\n",
       "      <td>9</td>\n",
       "      <td>17</td>\n",
       "      <td>22</td>\n",
       "    </tr>\n",
       "    <tr>\n",
       "      <th>3</th>\n",
       "      <td>11</td>\n",
       "      <td>1</td>\n",
       "      <td>5</td>\n",
       "      <td>3</td>\n",
       "      <td>2091</td>\n",
       "      <td>30</td>\n",
       "      <td>-2</td>\n",
       "      <td>168</td>\n",
       "      <td>944</td>\n",
       "      <td>345</td>\n",
       "      <td>...</td>\n",
       "      <td>34</td>\n",
       "      <td>58</td>\n",
       "      <td>15</td>\n",
       "      <td>25</td>\n",
       "      <td>38</td>\n",
       "      <td>29</td>\n",
       "      <td>4</td>\n",
       "      <td>9</td>\n",
       "      <td>17</td>\n",
       "      <td>12</td>\n",
       "    </tr>\n",
       "    <tr>\n",
       "      <th>4</th>\n",
       "      <td>11</td>\n",
       "      <td>1</td>\n",
       "      <td>5</td>\n",
       "      <td>4</td>\n",
       "      <td>1583</td>\n",
       "      <td>1</td>\n",
       "      <td>-4</td>\n",
       "      <td>139</td>\n",
       "      <td>760</td>\n",
       "      <td>360</td>\n",
       "      <td>...</td>\n",
       "      <td>32</td>\n",
       "      <td>58</td>\n",
       "      <td>15</td>\n",
       "      <td>24</td>\n",
       "      <td>35</td>\n",
       "      <td>29</td>\n",
       "      <td>4</td>\n",
       "      <td>9</td>\n",
       "      <td>17</td>\n",
       "      <td>13</td>\n",
       "    </tr>\n",
       "    <tr>\n",
       "      <th>5</th>\n",
       "      <td>11</td>\n",
       "      <td>1</td>\n",
       "      <td>5</td>\n",
       "      <td>1</td>\n",
       "      <td>2041</td>\n",
       "      <td>36</td>\n",
       "      <td>-1</td>\n",
       "      <td>161</td>\n",
       "      <td>740</td>\n",
       "      <td>359</td>\n",
       "      <td>...</td>\n",
       "      <td>32</td>\n",
       "      <td>58</td>\n",
       "      <td>15</td>\n",
       "      <td>24</td>\n",
       "      <td>35</td>\n",
       "      <td>29</td>\n",
       "      <td>4</td>\n",
       "      <td>9</td>\n",
       "      <td>17</td>\n",
       "      <td>21</td>\n",
       "    </tr>\n",
       "    <tr>\n",
       "      <th>6</th>\n",
       "      <td>11</td>\n",
       "      <td>1</td>\n",
       "      <td>5</td>\n",
       "      <td>1</td>\n",
       "      <td>21</td>\n",
       "      <td>28</td>\n",
       "      <td>-1</td>\n",
       "      <td>373</td>\n",
       "      <td>2475</td>\n",
       "      <td>360</td>\n",
       "      <td>...</td>\n",
       "      <td>32</td>\n",
       "      <td>58</td>\n",
       "      <td>15</td>\n",
       "      <td>24</td>\n",
       "      <td>35</td>\n",
       "      <td>29</td>\n",
       "      <td>4</td>\n",
       "      <td>9</td>\n",
       "      <td>17</td>\n",
       "      <td>26</td>\n",
       "    </tr>\n",
       "    <tr>\n",
       "      <th>7</th>\n",
       "      <td>11</td>\n",
       "      <td>1</td>\n",
       "      <td>5</td>\n",
       "      <td>3</td>\n",
       "      <td>331</td>\n",
       "      <td>7</td>\n",
       "      <td>-5</td>\n",
       "      <td>80</td>\n",
       "      <td>301</td>\n",
       "      <td>365</td>\n",
       "      <td>...</td>\n",
       "      <td>32</td>\n",
       "      <td>58</td>\n",
       "      <td>15</td>\n",
       "      <td>24</td>\n",
       "      <td>35</td>\n",
       "      <td>29</td>\n",
       "      <td>4</td>\n",
       "      <td>17</td>\n",
       "      <td>21</td>\n",
       "      <td>11</td>\n",
       "    </tr>\n",
       "    <tr>\n",
       "      <th>8</th>\n",
       "      <td>11</td>\n",
       "      <td>1</td>\n",
       "      <td>5</td>\n",
       "      <td>3</td>\n",
       "      <td>1111</td>\n",
       "      <td>29</td>\n",
       "      <td>0</td>\n",
       "      <td>368</td>\n",
       "      <td>2465</td>\n",
       "      <td>365</td>\n",
       "      <td>...</td>\n",
       "      <td>32</td>\n",
       "      <td>58</td>\n",
       "      <td>15</td>\n",
       "      <td>24</td>\n",
       "      <td>35</td>\n",
       "      <td>29</td>\n",
       "      <td>4</td>\n",
       "      <td>17</td>\n",
       "      <td>21</td>\n",
       "      <td>25</td>\n",
       "    </tr>\n",
       "    <tr>\n",
       "      <th>9</th>\n",
       "      <td>11</td>\n",
       "      <td>1</td>\n",
       "      <td>5</td>\n",
       "      <td>3</td>\n",
       "      <td>350</td>\n",
       "      <td>20</td>\n",
       "      <td>3</td>\n",
       "      <td>184</td>\n",
       "      <td>1069</td>\n",
       "      <td>370</td>\n",
       "      <td>...</td>\n",
       "      <td>32</td>\n",
       "      <td>58</td>\n",
       "      <td>15</td>\n",
       "      <td>24</td>\n",
       "      <td>35</td>\n",
       "      <td>29</td>\n",
       "      <td>4</td>\n",
       "      <td>17</td>\n",
       "      <td>21</td>\n",
       "      <td>29</td>\n",
       "    </tr>\n",
       "  </tbody>\n",
       "</table>\n",
       "<p>10 rows × 23 columns</p>\n",
       "</div>"
      ],
      "text/plain": [
       "   0   1   2   3     4   5   6    7     8    9   ...  13  14  15  16  17  18  \\\n",
       "0  11   1   5   3  1405  10  -1  124   636  324  ...  34  58  15  25  38  29   \n",
       "1  11   1   5   3  2074  28  -7  371  2475  340  ...  34  58  15  25  38  29   \n",
       "2  11   1   5   3  1942  20  40  181  1069  301  ...  34  58  15  25  38  29   \n",
       "3  11   1   5   3  2091  30  -2  168   944  345  ...  34  58  15  25  38  29   \n",
       "4  11   1   5   4  1583   1  -4  139   760  360  ...  32  58  15  24  35  29   \n",
       "5  11   1   5   1  2041  36  -1  161   740  359  ...  32  58  15  24  35  29   \n",
       "6  11   1   5   1    21  28  -1  373  2475  360  ...  32  58  15  24  35  29   \n",
       "7  11   1   5   3   331   7  -5   80   301  365  ...  32  58  15  24  35  29   \n",
       "8  11   1   5   3  1111  29   0  368  2465  365  ...  32  58  15  24  35  29   \n",
       "9  11   1   5   3   350  20   3  184  1069  370  ...  32  58  15  24  35  29   \n",
       "\n",
       "   19  20  21  22  \n",
       "0   4   9  17  14  \n",
       "1   4   9  17  15  \n",
       "2   4   9  17  22  \n",
       "3   4   9  17  12  \n",
       "4   4   9  17  13  \n",
       "5   4   9  17  21  \n",
       "6   4   9  17  26  \n",
       "7   4  17  21  11  \n",
       "8   4  17  21  25  \n",
       "9   4  17  21  29  \n",
       "\n",
       "[10 rows x 23 columns]"
      ]
     },
     "execution_count": 2,
     "metadata": {},
     "output_type": "execute_result"
    }
   ],
   "source": [
    "#label encoding the data\n",
    "from sklearn.preprocessing import LabelEncoder, OneHotEncoder\n",
    "lab_enc=LabelEncoder()\n",
    "one_hot=OneHotEncoder()\n",
    "jfk.iloc[:,3]= lab_enc.fit_transform(jfk.iloc[:,3])\n",
    "jfk.iloc[:,4]= lab_enc.fit_transform(jfk.iloc[:,4])\n",
    "jfk.iloc[:,5]= lab_enc.fit_transform(jfk.iloc[:,5])\n",
    "jfk.iloc[:,15]= lab_enc.fit_transform(jfk.iloc[:,15])\n",
    "jfk.iloc[:,19]= lab_enc.fit_transform(jfk.iloc[:,19])\n",
    "jfk = jfk.astype('int')\n",
    "jfk.head(10)"
   ]
  },
  {
   "cell_type": "code",
   "execution_count": 3,
   "id": "bridal-grenada",
   "metadata": {
    "execution": {
     "iopub.execute_input": "2021-07-17T14:46:26.386194Z",
     "iopub.status.busy": "2021-07-17T14:46:26.385468Z",
     "iopub.status.idle": "2021-07-17T14:46:26.467947Z",
     "shell.execute_reply": "2021-07-17T14:46:26.467397Z",
     "shell.execute_reply.started": "2021-07-17T07:22:42.781941Z"
    },
    "papermill": {
     "duration": 0.116216,
     "end_time": "2021-07-17T14:46:26.468097",
     "exception": false,
     "start_time": "2021-07-17T14:46:26.351881",
     "status": "completed"
    },
    "tags": []
   },
   "outputs": [],
   "source": [
    "#splitting the dataset in the ration of 90:10\n",
    "from sklearn.model_selection import train_test_split\n",
    "X=jfk[[0,1,2,3,4,5,6,7,8,9,10,11,12,13,14,15,16,17,18,19,20,21]]\n",
    "y=jfk[[22]]\n",
    "X_train, X_test, y_train,y_test = train_test_split(X,y,test_size=0.1, random_state=20)"
   ]
  },
  {
   "cell_type": "markdown",
   "id": "gorgeous-lease",
   "metadata": {
    "papermill": {
     "duration": 0.027644,
     "end_time": "2021-07-17T14:46:26.523966",
     "exception": false,
     "start_time": "2021-07-17T14:46:26.496322",
     "status": "completed"
    },
    "tags": []
   },
   "source": [
    "1.1 Linear Regression"
   ]
  },
  {
   "cell_type": "code",
   "execution_count": 4,
   "id": "satellite-spoke",
   "metadata": {
    "execution": {
     "iopub.execute_input": "2021-07-17T14:46:26.585841Z",
     "iopub.status.busy": "2021-07-17T14:46:26.585226Z",
     "iopub.status.idle": "2021-07-17T14:46:26.724275Z",
     "shell.execute_reply": "2021-07-17T14:46:26.725114Z",
     "shell.execute_reply.started": "2021-07-17T07:22:42.803896Z"
    },
    "papermill": {
     "duration": 0.173004,
     "end_time": "2021-07-17T14:46:26.725366",
     "exception": false,
     "start_time": "2021-07-17T14:46:26.552362",
     "status": "completed"
    },
    "tags": []
   },
   "outputs": [],
   "source": [
    "import math\n",
    "from sklearn.metrics import mean_squared_error\n",
    "from sklearn.linear_model import LinearRegression\n",
    "lr0 = LinearRegression()\n",
    "lr0.fit(X_train, y_train)\n",
    "x_lr0=lr0.predict(X_test)\n",
    "temp= math.sqrt(mean_squared_error(y_test,x_lr0))\n",
    "err_lab.append(temp)"
   ]
  },
  {
   "cell_type": "markdown",
   "id": "mounted-express",
   "metadata": {
    "papermill": {
     "duration": 0.040988,
     "end_time": "2021-07-17T14:46:26.855298",
     "exception": false,
     "start_time": "2021-07-17T14:46:26.814310",
     "status": "completed"
    },
    "tags": []
   },
   "source": [
    "1.2 Ridge Regression"
   ]
  },
  {
   "cell_type": "code",
   "execution_count": 5,
   "id": "seasonal-depression",
   "metadata": {
    "execution": {
     "iopub.execute_input": "2021-07-17T14:46:26.919170Z",
     "iopub.status.busy": "2021-07-17T14:46:26.918512Z",
     "iopub.status.idle": "2021-07-17T14:46:26.947174Z",
     "shell.execute_reply": "2021-07-17T14:46:26.948061Z",
     "shell.execute_reply.started": "2021-07-17T07:22:42.946515Z"
    },
    "papermill": {
     "duration": 0.065099,
     "end_time": "2021-07-17T14:46:26.948336",
     "exception": false,
     "start_time": "2021-07-17T14:46:26.883237",
     "status": "completed"
    },
    "tags": []
   },
   "outputs": [],
   "source": [
    "from sklearn.linear_model import Ridge\n",
    "lr1 = Ridge(alpha=0.5, normalize = True)\n",
    "lr1.fit(X_train, y_train)\n",
    "x_lr1=lr1.predict(X_test)\n",
    "temp= math.sqrt(mean_squared_error(y_test,x_lr1))\n",
    "err_lab.append(temp)"
   ]
  },
  {
   "cell_type": "markdown",
   "id": "basic-humor",
   "metadata": {
    "papermill": {
     "duration": 0.048395,
     "end_time": "2021-07-17T14:46:27.046023",
     "exception": false,
     "start_time": "2021-07-17T14:46:26.997628",
     "status": "completed"
    },
    "tags": []
   },
   "source": [
    "1.3 Lasso Regression"
   ]
  },
  {
   "cell_type": "code",
   "execution_count": 6,
   "id": "formal-mumbai",
   "metadata": {
    "execution": {
     "iopub.execute_input": "2021-07-17T14:46:27.115368Z",
     "iopub.status.busy": "2021-07-17T14:46:27.114686Z",
     "iopub.status.idle": "2021-07-17T14:46:27.640470Z",
     "shell.execute_reply": "2021-07-17T14:46:27.641430Z",
     "shell.execute_reply.started": "2021-07-17T07:22:42.988432Z"
    },
    "papermill": {
     "duration": 0.5618,
     "end_time": "2021-07-17T14:46:27.641687",
     "exception": false,
     "start_time": "2021-07-17T14:46:27.079887",
     "status": "completed"
    },
    "tags": []
   },
   "outputs": [],
   "source": [
    "from sklearn.linear_model import Lasso\n",
    "lr2 = Lasso(alpha=0.1)\n",
    "lr2.fit(X_train, y_train)\n",
    "x_lr2=lr2.predict(X_test)\n",
    "temp= math.sqrt(mean_squared_error(y_test,x_lr2))\n",
    "err_lab.append(temp)"
   ]
  },
  {
   "cell_type": "markdown",
   "id": "fewer-portrait",
   "metadata": {
    "papermill": {
     "duration": 0.040858,
     "end_time": "2021-07-17T14:46:27.768232",
     "exception": false,
     "start_time": "2021-07-17T14:46:27.727374",
     "status": "completed"
    },
    "tags": []
   },
   "source": [
    "1.4 KNeighbors Classifier"
   ]
  },
  {
   "cell_type": "code",
   "execution_count": 7,
   "id": "expressed-bosnia",
   "metadata": {
    "execution": {
     "iopub.execute_input": "2021-07-17T14:46:27.829342Z",
     "iopub.status.busy": "2021-07-17T14:46:27.828717Z",
     "iopub.status.idle": "2021-07-17T14:46:29.504631Z",
     "shell.execute_reply": "2021-07-17T14:46:29.503953Z",
     "shell.execute_reply.started": "2021-07-17T07:22:43.399468Z"
    },
    "papermill": {
     "duration": 1.708651,
     "end_time": "2021-07-17T14:46:29.504772",
     "exception": false,
     "start_time": "2021-07-17T14:46:27.796121",
     "status": "completed"
    },
    "tags": []
   },
   "outputs": [],
   "source": [
    "from sklearn.neighbors import KNeighborsClassifier\n",
    "knn= KNeighborsClassifier(n_neighbors=10)\n",
    "knn_pred= knn.fit(X_train,y_train.values.ravel()).predict(X_test)\n",
    "temp= math.sqrt(mean_squared_error(y_test,knn_pred))\n",
    "err_lab.append(temp)"
   ]
  },
  {
   "cell_type": "markdown",
   "id": "occupied-budapest",
   "metadata": {
    "papermill": {
     "duration": 0.027464,
     "end_time": "2021-07-17T14:46:29.560881",
     "exception": false,
     "start_time": "2021-07-17T14:46:29.533417",
     "status": "completed"
    },
    "tags": []
   },
   "source": [
    "1.5 Support Vector Regression"
   ]
  },
  {
   "cell_type": "code",
   "execution_count": 8,
   "id": "overall-curve",
   "metadata": {
    "execution": {
     "iopub.execute_input": "2021-07-17T14:46:29.625170Z",
     "iopub.status.busy": "2021-07-17T14:46:29.624198Z",
     "iopub.status.idle": "2021-07-17T14:47:23.376300Z",
     "shell.execute_reply": "2021-07-17T14:47:23.375600Z",
     "shell.execute_reply.started": "2021-07-17T07:22:44.747516Z"
    },
    "papermill": {
     "duration": 53.787586,
     "end_time": "2021-07-17T14:47:23.376449",
     "exception": false,
     "start_time": "2021-07-17T14:46:29.588863",
     "status": "completed"
    },
    "tags": []
   },
   "outputs": [],
   "source": [
    "from sklearn.svm import SVR\n",
    "reg= SVR(kernel='rbf')\n",
    "reg.fit(X_train,y_train.values.ravel())\n",
    "svr_pred= reg.predict(X_test)\n",
    "temp= math.sqrt(mean_squared_error(y_test,svr_pred))\n",
    "err_lab.append(temp)"
   ]
  },
  {
   "cell_type": "markdown",
   "id": "secret-weight",
   "metadata": {
    "papermill": {
     "duration": 0.027496,
     "end_time": "2021-07-17T14:47:23.432704",
     "exception": false,
     "start_time": "2021-07-17T14:47:23.405208",
     "status": "completed"
    },
    "tags": []
   },
   "source": [
    "1.6 Gaussian Naive Bayes"
   ]
  },
  {
   "cell_type": "code",
   "execution_count": 9,
   "id": "incomplete-accreditation",
   "metadata": {
    "execution": {
     "iopub.execute_input": "2021-07-17T14:47:23.494024Z",
     "iopub.status.busy": "2021-07-17T14:47:23.493115Z",
     "iopub.status.idle": "2021-07-17T14:47:23.535815Z",
     "shell.execute_reply": "2021-07-17T14:47:23.535247Z",
     "shell.execute_reply.started": "2021-07-17T07:23:27.719404Z"
    },
    "papermill": {
     "duration": 0.075513,
     "end_time": "2021-07-17T14:47:23.535973",
     "exception": false,
     "start_time": "2021-07-17T14:47:23.460460",
     "status": "completed"
    },
    "tags": []
   },
   "outputs": [],
   "source": [
    "from sklearn.naive_bayes import GaussianNB\n",
    "gnb= GaussianNB()\n",
    "gnb_pred= gnb.fit(X_train,y_train.values.ravel()).predict(X_test)\n",
    "temp= math.sqrt(mean_squared_error(y_test,gnb_pred))\n",
    "err_lab.append(temp)"
   ]
  },
  {
   "cell_type": "markdown",
   "id": "following-nicaragua",
   "metadata": {
    "papermill": {
     "duration": 0.02731,
     "end_time": "2021-07-17T14:47:23.591245",
     "exception": false,
     "start_time": "2021-07-17T14:47:23.563935",
     "status": "completed"
    },
    "tags": []
   },
   "source": [
    "1.7 Random Forest Classifier"
   ]
  },
  {
   "cell_type": "code",
   "execution_count": 10,
   "id": "specialized-handling",
   "metadata": {
    "execution": {
     "iopub.execute_input": "2021-07-17T14:47:23.651725Z",
     "iopub.status.busy": "2021-07-17T14:47:23.651111Z",
     "iopub.status.idle": "2021-07-17T14:47:34.105254Z",
     "shell.execute_reply": "2021-07-17T14:47:34.104620Z",
     "shell.execute_reply.started": "2021-07-17T07:23:27.758258Z"
    },
    "papermill": {
     "duration": 10.486632,
     "end_time": "2021-07-17T14:47:34.105399",
     "exception": false,
     "start_time": "2021-07-17T14:47:23.618767",
     "status": "completed"
    },
    "tags": []
   },
   "outputs": [],
   "source": [
    "from sklearn.ensemble import RandomForestClassifier\n",
    "rfc= RandomForestClassifier()\n",
    "rfc_pred= rfc.fit(X_train,y_train.values.ravel()).predict(X_test)\n",
    "temp= math.sqrt(mean_squared_error(y_test,rfc_pred))\n",
    "err_lab.append(temp)"
   ]
  },
  {
   "cell_type": "markdown",
   "id": "binary-horse",
   "metadata": {
    "papermill": {
     "duration": 0.026982,
     "end_time": "2021-07-17T14:47:34.161843",
     "exception": false,
     "start_time": "2021-07-17T14:47:34.134861",
     "status": "completed"
    },
    "tags": []
   },
   "source": [
    "1.8 Light GBM"
   ]
  },
  {
   "cell_type": "code",
   "execution_count": 11,
   "id": "united-guatemala",
   "metadata": {
    "execution": {
     "iopub.execute_input": "2021-07-17T14:47:34.223693Z",
     "iopub.status.busy": "2021-07-17T14:47:34.222817Z",
     "iopub.status.idle": "2021-07-17T14:47:35.786497Z",
     "shell.execute_reply": "2021-07-17T14:47:35.787099Z",
     "shell.execute_reply.started": "2021-07-17T07:23:37.68786Z"
    },
    "papermill": {
     "duration": 1.597864,
     "end_time": "2021-07-17T14:47:35.787304",
     "exception": false,
     "start_time": "2021-07-17T14:47:34.189440",
     "status": "completed"
    },
    "tags": []
   },
   "outputs": [
    {
     "data": {
      "text/html": [
       "<style type='text/css'>\n",
       ".datatable table.frame { margin-bottom: 0; }\n",
       ".datatable table.frame thead { border-bottom: none; }\n",
       ".datatable table.frame tr.coltypes td {  color: #FFFFFF;  line-height: 6px;  padding: 0 0.5em;}\n",
       ".datatable .bool    { background: #DDDD99; }\n",
       ".datatable .object  { background: #565656; }\n",
       ".datatable .int     { background: #5D9E5D; }\n",
       ".datatable .float   { background: #4040CC; }\n",
       ".datatable .str     { background: #CC4040; }\n",
       ".datatable .row_index {  background: var(--jp-border-color3);  border-right: 1px solid var(--jp-border-color0);  color: var(--jp-ui-font-color3);  font-size: 9px;}\n",
       ".datatable .frame tr.coltypes .row_index {  background: var(--jp-border-color0);}\n",
       ".datatable th:nth-child(2) { padding-left: 12px; }\n",
       ".datatable .hellipsis {  color: var(--jp-cell-editor-border-color);}\n",
       ".datatable .vellipsis {  background: var(--jp-layout-color0);  color: var(--jp-cell-editor-border-color);}\n",
       ".datatable .na {  color: var(--jp-cell-editor-border-color);  font-size: 80%;}\n",
       ".datatable .footer { font-size: 9px; }\n",
       ".datatable .frame_dimensions {  background: var(--jp-border-color3);  border-top: 1px solid var(--jp-border-color0);  color: var(--jp-ui-font-color3);  display: inline-block;  opacity: 0.6;  padding: 1px 10px 1px 5px;}\n",
       "</style>\n"
      ],
      "text/plain": [
       "<IPython.core.display.HTML object>"
      ]
     },
     "metadata": {},
     "output_type": "display_data"
    },
    {
     "name": "stdout",
     "output_type": "stream",
     "text": [
      "[LightGBM] [Warning] Auto-choosing row-wise multi-threading, the overhead of testing was 0.001241 seconds.\n",
      "You can set `force_row_wise=true` to remove the overhead.\n",
      "And if memory is not enough, you can set `force_col_wise=true`.\n",
      "[LightGBM] [Info] Total Bins 2072\n",
      "[LightGBM] [Info] Number of data points in the train set: 25938, number of used features: 22\n",
      "[LightGBM] [Info] Start training from score 20.867492\n"
     ]
    }
   ],
   "source": [
    "import lightgbm as lgb\n",
    "lgb_train= lgb.Dataset(X_train, label = y_train)\n",
    "lgb_eval= lgb.Dataset(X_train,y_train, reference= lgb_train)\n",
    "params = {'boosting_type': 'gbdt', 'num_leaves': 60, 'learning_rate': 0.2}\n",
    "gbm_pred = lgb.train(params, lgb_train, 100).predict(X_test)\n",
    "temp= math.sqrt(mean_squared_error(y_test,gbm_pred))\n",
    "err_lab.append(temp)"
   ]
  },
  {
   "cell_type": "markdown",
   "id": "fatty-provision",
   "metadata": {
    "papermill": {
     "duration": 0.028339,
     "end_time": "2021-07-17T14:47:35.846109",
     "exception": false,
     "start_time": "2021-07-17T14:47:35.817770",
     "status": "completed"
    },
    "tags": []
   },
   "source": [
    "# 2. One Hot Encoding"
   ]
  },
  {
   "cell_type": "code",
   "execution_count": 12,
   "id": "electrical-future",
   "metadata": {
    "execution": {
     "iopub.execute_input": "2021-07-17T14:47:35.918357Z",
     "iopub.status.busy": "2021-07-17T14:47:35.917625Z",
     "iopub.status.idle": "2021-07-17T14:47:35.987137Z",
     "shell.execute_reply": "2021-07-17T14:47:35.986480Z",
     "shell.execute_reply.started": "2021-07-17T07:23:39.082499Z"
    },
    "papermill": {
     "duration": 0.110513,
     "end_time": "2021-07-17T14:47:35.987296",
     "exception": false,
     "start_time": "2021-07-17T14:47:35.876783",
     "status": "completed"
    },
    "tags": []
   },
   "outputs": [],
   "source": [
    "#hot encoding whole datasets\n",
    "from sklearn.preprocessing import OneHotEncoder\n",
    "ohe=OneHotEncoder()\n",
    "X_ohe = pd.get_dummies(X, columns=[3, 5, 13, 15, 19])\n",
    "\n",
    "X1_train, X1_test, y1_train, y1_test = train_test_split(X_ohe,y, test_size = 0.1, random_state =10)"
   ]
  },
  {
   "cell_type": "markdown",
   "id": "usual-stuff",
   "metadata": {
    "papermill": {
     "duration": 0.028215,
     "end_time": "2021-07-17T14:47:36.044346",
     "exception": false,
     "start_time": "2021-07-17T14:47:36.016131",
     "status": "completed"
    },
    "tags": []
   },
   "source": [
    "2.1 Linear Regression"
   ]
  },
  {
   "cell_type": "code",
   "execution_count": 13,
   "id": "significant-philosophy",
   "metadata": {
    "execution": {
     "iopub.execute_input": "2021-07-17T14:47:36.111375Z",
     "iopub.status.busy": "2021-07-17T14:47:36.109828Z",
     "iopub.status.idle": "2021-07-17T14:47:36.377006Z",
     "shell.execute_reply": "2021-07-17T14:47:36.377928Z",
     "shell.execute_reply.started": "2021-07-17T07:23:39.221151Z"
    },
    "papermill": {
     "duration": 0.30547,
     "end_time": "2021-07-17T14:47:36.378191",
     "exception": false,
     "start_time": "2021-07-17T14:47:36.072721",
     "status": "completed"
    },
    "tags": []
   },
   "outputs": [],
   "source": [
    "lr0.fit(X1_train, y1_train)\n",
    "x1_lr0=lr0.predict(X1_test)\n",
    "temp= math.sqrt(mean_squared_error(y1_test,x1_lr0))\n",
    "err_ohe.append(temp)"
   ]
  },
  {
   "cell_type": "markdown",
   "id": "polish-inventory",
   "metadata": {
    "papermill": {
     "duration": 0.032396,
     "end_time": "2021-07-17T14:47:36.509531",
     "exception": false,
     "start_time": "2021-07-17T14:47:36.477135",
     "status": "completed"
    },
    "tags": []
   },
   "source": [
    "2.2 Ridge Regression"
   ]
  },
  {
   "cell_type": "code",
   "execution_count": 14,
   "id": "other-editor",
   "metadata": {
    "execution": {
     "iopub.execute_input": "2021-07-17T14:47:36.575567Z",
     "iopub.status.busy": "2021-07-17T14:47:36.574868Z",
     "iopub.status.idle": "2021-07-17T14:47:36.715071Z",
     "shell.execute_reply": "2021-07-17T14:47:36.716016Z",
     "shell.execute_reply.started": "2021-07-17T07:23:39.463547Z"
    },
    "papermill": {
     "duration": 0.178028,
     "end_time": "2021-07-17T14:47:36.716280",
     "exception": false,
     "start_time": "2021-07-17T14:47:36.538252",
     "status": "completed"
    },
    "tags": []
   },
   "outputs": [],
   "source": [
    "lr1.fit(X1_train, y1_train)\n",
    "x1_lr1=lr1.predict(X1_test)\n",
    "temp= math.sqrt(mean_squared_error(y1_test,x1_lr1))\n",
    "err_ohe.append(temp)"
   ]
  },
  {
   "cell_type": "markdown",
   "id": "stupid-metropolitan",
   "metadata": {
    "papermill": {
     "duration": 0.030184,
     "end_time": "2021-07-17T14:47:36.845072",
     "exception": false,
     "start_time": "2021-07-17T14:47:36.814888",
     "status": "completed"
    },
    "tags": []
   },
   "source": [
    "2.3 Lasso Regression"
   ]
  },
  {
   "cell_type": "code",
   "execution_count": 15,
   "id": "metallic-force",
   "metadata": {
    "execution": {
     "iopub.execute_input": "2021-07-17T14:47:36.911447Z",
     "iopub.status.busy": "2021-07-17T14:47:36.910689Z",
     "iopub.status.idle": "2021-07-17T14:47:39.985586Z",
     "shell.execute_reply": "2021-07-17T14:47:39.986512Z",
     "shell.execute_reply.started": "2021-07-17T07:23:39.562935Z"
    },
    "papermill": {
     "duration": 3.113023,
     "end_time": "2021-07-17T14:47:39.986792",
     "exception": false,
     "start_time": "2021-07-17T14:47:36.873769",
     "status": "completed"
    },
    "tags": []
   },
   "outputs": [],
   "source": [
    "lr2 = Lasso(alpha=0.1)\n",
    "lr2.fit(X1_train, y1_train)\n",
    "x1_lr2=lr2.predict(X1_test)\n",
    "temp= math.sqrt(mean_squared_error(y1_test,x1_lr2))\n",
    "err_ohe.append(temp)"
   ]
  },
  {
   "cell_type": "markdown",
   "id": "organizational-major",
   "metadata": {
    "papermill": {
     "duration": 0.033496,
     "end_time": "2021-07-17T14:47:40.117324",
     "exception": false,
     "start_time": "2021-07-17T14:47:40.083828",
     "status": "completed"
    },
    "tags": []
   },
   "source": [
    "2.4 KNeighbors Classifier"
   ]
  },
  {
   "cell_type": "code",
   "execution_count": 16,
   "id": "gorgeous-science",
   "metadata": {
    "execution": {
     "iopub.execute_input": "2021-07-17T14:47:40.184218Z",
     "iopub.status.busy": "2021-07-17T14:47:40.183487Z",
     "iopub.status.idle": "2021-07-17T14:47:42.200245Z",
     "shell.execute_reply": "2021-07-17T14:47:42.200939Z",
     "shell.execute_reply.started": "2021-07-17T07:23:41.995874Z"
    },
    "papermill": {
     "duration": 2.054955,
     "end_time": "2021-07-17T14:47:42.201126",
     "exception": false,
     "start_time": "2021-07-17T14:47:40.146171",
     "status": "completed"
    },
    "tags": []
   },
   "outputs": [],
   "source": [
    "knn= KNeighborsClassifier(n_neighbors=10)\n",
    "knn_pred1= knn.fit(X1_train,y1_train.values.ravel()).predict(X1_test)\n",
    "temp= math.sqrt(mean_squared_error(y1_test,knn_pred1))\n",
    "err_ohe.append(temp)"
   ]
  },
  {
   "cell_type": "markdown",
   "id": "fifteen-activity",
   "metadata": {
    "papermill": {
     "duration": 0.028596,
     "end_time": "2021-07-17T14:47:42.258209",
     "exception": false,
     "start_time": "2021-07-17T14:47:42.229613",
     "status": "completed"
    },
    "tags": []
   },
   "source": [
    "2.5 Support Vector Regression"
   ]
  },
  {
   "cell_type": "code",
   "execution_count": 17,
   "id": "valuable-storage",
   "metadata": {
    "execution": {
     "iopub.execute_input": "2021-07-17T14:47:42.318976Z",
     "iopub.status.busy": "2021-07-17T14:47:42.318043Z",
     "iopub.status.idle": "2021-07-17T14:50:35.693238Z",
     "shell.execute_reply": "2021-07-17T14:50:35.692311Z",
     "shell.execute_reply.started": "2021-07-17T07:23:43.65418Z"
    },
    "papermill": {
     "duration": 173.406753,
     "end_time": "2021-07-17T14:50:35.693428",
     "exception": false,
     "start_time": "2021-07-17T14:47:42.286675",
     "status": "completed"
    },
    "tags": []
   },
   "outputs": [],
   "source": [
    "reg= SVR()\n",
    "reg.fit(X1_train,y1_train.values.ravel())\n",
    "svr_pred1= reg.predict(X1_test)\n",
    "temp= math.sqrt(mean_squared_error(y1_test,svr_pred1))\n",
    "err_ohe.append(temp)"
   ]
  },
  {
   "cell_type": "markdown",
   "id": "suspected-weather",
   "metadata": {
    "papermill": {
     "duration": 0.03197,
     "end_time": "2021-07-17T14:50:35.755285",
     "exception": false,
     "start_time": "2021-07-17T14:50:35.723315",
     "status": "completed"
    },
    "tags": []
   },
   "source": [
    "2.6 Gaussian Naive Bayes"
   ]
  },
  {
   "cell_type": "code",
   "execution_count": 18,
   "id": "intensive-saturn",
   "metadata": {
    "execution": {
     "iopub.execute_input": "2021-07-17T14:50:35.828654Z",
     "iopub.status.busy": "2021-07-17T14:50:35.827864Z",
     "iopub.status.idle": "2021-07-17T14:50:36.157036Z",
     "shell.execute_reply": "2021-07-17T14:50:36.156383Z",
     "shell.execute_reply.started": "2021-07-17T07:26:00.253407Z"
    },
    "papermill": {
     "duration": 0.369871,
     "end_time": "2021-07-17T14:50:36.157204",
     "exception": false,
     "start_time": "2021-07-17T14:50:35.787333",
     "status": "completed"
    },
    "tags": []
   },
   "outputs": [],
   "source": [
    "gnb= GaussianNB()\n",
    "gnb_pred= gnb.fit(X1_train,y1_train.values.ravel()).predict(X1_test)\n",
    "temp= math.sqrt(mean_squared_error(y1_test,gnb_pred))\n",
    "err_ohe.append(temp)"
   ]
  },
  {
   "cell_type": "markdown",
   "id": "automated-lightweight",
   "metadata": {
    "papermill": {
     "duration": 0.030282,
     "end_time": "2021-07-17T14:50:36.217636",
     "exception": false,
     "start_time": "2021-07-17T14:50:36.187354",
     "status": "completed"
    },
    "tags": []
   },
   "source": [
    "2.7 Random Forest Classifier"
   ]
  },
  {
   "cell_type": "code",
   "execution_count": 19,
   "id": "noted-attitude",
   "metadata": {
    "execution": {
     "iopub.execute_input": "2021-07-17T14:50:36.320861Z",
     "iopub.status.busy": "2021-07-17T14:50:36.320140Z",
     "iopub.status.idle": "2021-07-17T14:50:49.064607Z",
     "shell.execute_reply": "2021-07-17T14:50:49.063994Z",
     "shell.execute_reply.started": "2021-07-17T07:26:00.428144Z"
    },
    "papermill": {
     "duration": 12.816315,
     "end_time": "2021-07-17T14:50:49.064765",
     "exception": false,
     "start_time": "2021-07-17T14:50:36.248450",
     "status": "completed"
    },
    "tags": []
   },
   "outputs": [],
   "source": [
    "rfc= RandomForestClassifier()\n",
    "rfc_pred1= rfc.fit(X1_train,y1_train.values.ravel()).predict(X1_test)\n",
    "temp= math.sqrt(mean_squared_error(y1_test,rfc_pred1))\n",
    "err_ohe.append(temp)"
   ]
  },
  {
   "cell_type": "markdown",
   "id": "collective-acoustic",
   "metadata": {
    "papermill": {
     "duration": 0.028787,
     "end_time": "2021-07-17T14:50:49.123445",
     "exception": false,
     "start_time": "2021-07-17T14:50:49.094658",
     "status": "completed"
    },
    "tags": []
   },
   "source": [
    "2.8 Light GBM"
   ]
  },
  {
   "cell_type": "code",
   "execution_count": 20,
   "id": "swiss-pittsburgh",
   "metadata": {
    "execution": {
     "iopub.execute_input": "2021-07-17T14:50:49.187955Z",
     "iopub.status.busy": "2021-07-17T14:50:49.187295Z",
     "iopub.status.idle": "2021-07-17T14:50:49.784766Z",
     "shell.execute_reply": "2021-07-17T14:50:49.785367Z",
     "shell.execute_reply.started": "2021-07-17T07:26:11.191646Z"
    },
    "papermill": {
     "duration": 0.633262,
     "end_time": "2021-07-17T14:50:49.785570",
     "exception": false,
     "start_time": "2021-07-17T14:50:49.152308",
     "status": "completed"
    },
    "tags": []
   },
   "outputs": [
    {
     "name": "stdout",
     "output_type": "stream",
     "text": [
      "[LightGBM] [Warning] Auto-choosing col-wise multi-threading, the overhead of testing was 0.004032 seconds.\n",
      "You can set `force_col_wise=true` to remove the overhead.\n",
      "[LightGBM] [Info] Total Bins 2233\n",
      "[LightGBM] [Info] Number of data points in the train set: 25938, number of used features: 188\n",
      "[LightGBM] [Info] Start training from score 20.825468\n"
     ]
    }
   ],
   "source": [
    "lgb_train= lgb.Dataset(X1_train, label = y1_train)\n",
    "lgb_eval= lgb.Dataset(X1_train,y1_train, reference= lgb_train)\n",
    "params = {'boosting_type': 'gbdt', 'num_leaves': 60, 'learning_rate': 0.2}\n",
    "gbm_pred1 = lgb.train(params, lgb_train, 100).predict(X1_test)\n",
    "temp= math.sqrt(mean_squared_error(y1_test,gbm_pred1))\n",
    "err_ohe.append(temp)"
   ]
  },
  {
   "cell_type": "markdown",
   "id": "decent-friendship",
   "metadata": {
    "papermill": {
     "duration": 0.028536,
     "end_time": "2021-07-17T14:50:49.845206",
     "exception": false,
     "start_time": "2021-07-17T14:50:49.816670",
     "status": "completed"
    },
    "tags": []
   },
   "source": [
    "# Compairing models on the basis of RMSE"
   ]
  },
  {
   "cell_type": "code",
   "execution_count": 21,
   "id": "dominican-connection",
   "metadata": {
    "execution": {
     "iopub.execute_input": "2021-07-17T14:50:49.910099Z",
     "iopub.status.busy": "2021-07-17T14:50:49.909347Z",
     "iopub.status.idle": "2021-07-17T14:50:50.202483Z",
     "shell.execute_reply": "2021-07-17T14:50:50.201940Z",
     "shell.execute_reply.started": "2021-07-17T14:42:40.548983Z"
    },
    "papermill": {
     "duration": 0.328538,
     "end_time": "2021-07-17T14:50:50.202619",
     "exception": false,
     "start_time": "2021-07-17T14:50:49.874081",
     "status": "completed"
    },
    "tags": []
   },
   "outputs": [
    {
     "data": {
      "image/png": "[encoded data removed]",
      "text/plain": [
       "<Figure size 1440x720 with 1 Axes>"
      ]
     },
     "metadata": {
      "needs_background": "light"
     },
     "output_type": "display_data"
    }
   ],
   "source": [
    "labels=['Linear Regression','Ridge Regression','Lasso Regression','KNN','SVR','Naive Bayes','Random Forest','LightGBM']\n",
    "df = pd.DataFrame({'Label encoding':err_lab,'One Hot encoding':err_ohe}, index=labels)\n",
    "ax = df.plot.bar(rot=0,figsize=(20,10))"
   ]
  },
  {
   "cell_type": "markdown",
   "id": "pacific-earthquake",
   "metadata": {
    "papermill": {
     "duration": 0.03021,
     "end_time": "2021-07-17T14:50:50.262966",
     "exception": false,
     "start_time": "2021-07-17T14:50:50.232756",
     "status": "completed"
    },
    "tags": []
   },
   "source": [
    "# Conclusions:\n",
    "1. Label encoding is better in predicting taxi_out time in almost all algorithms.\n",
    "2. One hot encoding produces exceptinally big RMSE in Naive Bayes algorithm.\n",
    "3. On the basis of RMSE we can say that LightGBM model is best model in both Label encoded as well as One Hot Encoded data."
   ]
  }
 ],
 "metadata": {
  "kernelspec": {
   "display_name": "Python 3",
   "language": "python",
   "name": "python3"
  },
  "language_info": {
   "codemirror_mode": {
    "name": "ipython",
    "version": 3
   },
   "file_extension": ".py",
   "mimetype": "text/x-python",
   "name": "python",
   "nbconvert_exporter": "python",
   "pygments_lexer": "ipython3",
   "version": "3.7.10"
  },
  "papermill": {
   "default_parameters": {},
   "duration": 275.007175,
   "end_time": "2021-07-17T14:50:51.760863",
   "environment_variables": {},
   "exception": null,
   "input_path": "__notebook__.ipynb",
   "output_path": "__notebook__.ipynb",
   "parameters": {},
   "start_time": "2021-07-17T14:46:16.753688",
   "version": "2.3.3"
  }
 },
 "nbformat": 4,
 "nbformat_minor": 5
}
